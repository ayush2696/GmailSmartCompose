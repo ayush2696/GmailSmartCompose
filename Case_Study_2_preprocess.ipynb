{
  "cells": [
    {
      "cell_type": "markdown",
      "metadata": {
        "id": "-Ld65ppCiSoj"
      },
      "source": [
        "# Gmail Smart Compose: Real-Time Assisted Writing\n",
        "\n",
        "**Dataset:**\n",
        "\n",
        "**Name** : Enron Email Dataset\n",
        "\n",
        "**Location** : https://www.cs.cmu.edu/~./enron/\n",
        "\n",
        "**About** : This dataset was collected and prepared by the CALO Project (A Cognitive Assistant that Learns and Organizes). It contains data from about 150 users, mostly senior management of Enron, organized into folders.\n",
        "\n",
        "\n"
      ]
    },
    {
      "cell_type": "code",
      "execution_count": null,
      "metadata": {
        "id": "4n7VwfA1cAqC",
        "colab": {
          "base_uri": "https://localhost:8080/"
        },
        "outputId": "64a9a57a-6e90-46a5-c2a9-c72e62d90af8"
      },
      "outputs": [
        {
          "output_type": "stream",
          "name": "stdout",
          "text": [
            "Drive already mounted at /content/drive; to attempt to forcibly remount, call drive.mount(\"/content/drive\", force_remount=True).\n"
          ]
        }
      ],
      "source": [
        "from google.colab import drive\n",
        "drive.mount('/content/drive')"
      ]
    },
    {
      "cell_type": "code",
      "execution_count": null,
      "metadata": {
        "id": "Q7nynZ6TVwNL"
      },
      "outputs": [],
      "source": [
        "import re\n",
        "import nltk\n",
        "import pandas as pd\n",
        "import os\n",
        "from tqdm import tqdm\n",
        "from bs4 import BeautifulSoup"
      ]
    },
    {
      "cell_type": "code",
      "execution_count": null,
      "metadata": {
        "id": "rVbRFmNAiKll"
      },
      "outputs": [],
      "source": [
        "#import tarfile\n",
        "\n",
        "#opening file\n",
        "#file = tarfile.open('/content/drive/MyDrive/enron_mail_20150507.tar.gz')\n",
        "\n",
        "#extracting file to /content/drive/MyDrive/CaseStudy2/EmailDataset\n",
        "\n",
        "#file.extractall('/content/drive/MyDrive/CaseStudy2/EmailDataset')\n",
        "\n",
        "#file.close()\n"
      ]
    },
    {
      "cell_type": "code",
      "execution_count": null,
      "metadata": {
        "id": "YN-Y4jx5mq97"
      },
      "outputs": [],
      "source": [
        "import glob\n",
        "\n",
        "#path for all files\n",
        "path = '/content/drive/MyDrive/CaseStudy2/EmailDataset/maildir/*/_sent_mail/*.'\n",
        "\n",
        "file_name_iterator = glob.glob(path)"
      ]
    },
    {
      "cell_type": "code",
      "source": [
        "print(len((file_name_iterator)))"
      ],
      "metadata": {
        "colab": {
          "base_uri": "https://localhost:8080/"
        },
        "id": "sL6pXii-PjNo",
        "outputId": "8d717780-6e31-4fb9-dff5-b6cff92fd0b2"
      },
      "execution_count": null,
      "outputs": [
        {
          "output_type": "stream",
          "name": "stdout",
          "text": [
            "22379\n"
          ]
        }
      ]
    },
    {
      "cell_type": "code",
      "source": [
        "import glob\n",
        "\n",
        "#path for all files\n",
        "path = '/content/drive/MyDrive/CaseStudy2/EmailDataset/maildir/*/*/*.'\n",
        "\n",
        "all_files = glob.glob(path)"
      ],
      "metadata": {
        "id": "fXm68wdWL-lD"
      },
      "execution_count": null,
      "outputs": []
    },
    {
      "cell_type": "code",
      "source": [
        "print(len(all_files))"
      ],
      "metadata": {
        "colab": {
          "base_uri": "https://localhost:8080/"
        },
        "id": "s90ehNcKPeqT",
        "outputId": "c3cf4b73-b433-4693-c1a8-263efb7106e0"
      },
      "execution_count": null,
      "outputs": [
        {
          "output_type": "stream",
          "name": "stdout",
          "text": [
            "397441\n"
          ]
        }
      ]
    },
    {
      "cell_type": "code",
      "source": [
        "difference = set(all_files) - set(file_name_iterator)"
      ],
      "metadata": {
        "id": "sGX7eIvPO2yi"
      },
      "execution_count": null,
      "outputs": []
    },
    {
      "cell_type": "code",
      "source": [
        "print(len(difference))"
      ],
      "metadata": {
        "colab": {
          "base_uri": "https://localhost:8080/"
        },
        "id": "gNu56NWoPWqv",
        "outputId": "b7429ae1-e04d-49c9-e6a8-5b990649be62"
      },
      "execution_count": null,
      "outputs": [
        {
          "output_type": "stream",
          "name": "stdout",
          "text": [
            "375062\n"
          ]
        }
      ]
    },
    {
      "cell_type": "code",
      "source": [
        "difference = list(difference)\n",
        "difference = difference[0:70000]"
      ],
      "metadata": {
        "id": "52Dw6oR-P9-M"
      },
      "execution_count": null,
      "outputs": []
    },
    {
      "cell_type": "code",
      "source": [
        "file_name_iterator.extend(difference)"
      ],
      "metadata": {
        "id": "kqSvqKOoO_p6"
      },
      "execution_count": null,
      "outputs": []
    },
    {
      "cell_type": "code",
      "source": [
        "print(len(file_name_iterator))"
      ],
      "metadata": {
        "colab": {
          "base_uri": "https://localhost:8080/"
        },
        "id": "FPsUgMzDQQuH",
        "outputId": "d1caaa45-3ed8-4ecb-80bd-09e7768c75bd"
      },
      "execution_count": null,
      "outputs": [
        {
          "output_type": "stream",
          "name": "stdout",
          "text": [
            "92379\n"
          ]
        }
      ]
    },
    {
      "cell_type": "code",
      "source": [
        "file_names = file_name_iterator"
      ],
      "metadata": {
        "id": "33EVqtY6QcDU"
      },
      "execution_count": null,
      "outputs": []
    },
    {
      "cell_type": "code",
      "source": [
        "len(file_names)"
      ],
      "metadata": {
        "colab": {
          "base_uri": "https://localhost:8080/"
        },
        "id": "p4J3ntG0OJD7",
        "outputId": "dd08dd13-2d1e-43ee-8210-d36885481510"
      },
      "execution_count": null,
      "outputs": [
        {
          "output_type": "execute_result",
          "data": {
            "text/plain": [
              "92379"
            ]
          },
          "metadata": {},
          "execution_count": 69
        }
      ]
    },
    {
      "cell_type": "code",
      "execution_count": null,
      "metadata": {
        "id": "ww058nNfy8Ij"
      },
      "outputs": [],
      "source": [
        "import pandas as pd"
      ]
    },
    {
      "cell_type": "code",
      "execution_count": null,
      "metadata": {
        "id": "h-xnDcQQy_kd"
      },
      "outputs": [],
      "source": [
        "data = pd.DataFrame(columns = ['ID','ForeignID','subject','body'])"
      ]
    },
    {
      "cell_type": "code",
      "execution_count": null,
      "metadata": {
        "colab": {
          "base_uri": "https://localhost:8080/",
          "height": 50
        },
        "id": "Y_nr5b30zRG0",
        "outputId": "19001e63-a9f3-4934-a2a4-068ef59b9fe6"
      },
      "outputs": [
        {
          "output_type": "execute_result",
          "data": {
            "text/html": [
              "\n",
              "  <div id=\"df-f85198b4-b929-4eb6-91f9-de44d9202ec7\">\n",
              "    <div class=\"colab-df-container\">\n",
              "      <div>\n",
              "<style scoped>\n",
              "    .dataframe tbody tr th:only-of-type {\n",
              "        vertical-align: middle;\n",
              "    }\n",
              "\n",
              "    .dataframe tbody tr th {\n",
              "        vertical-align: top;\n",
              "    }\n",
              "\n",
              "    .dataframe thead th {\n",
              "        text-align: right;\n",
              "    }\n",
              "</style>\n",
              "<table border=\"1\" class=\"dataframe\">\n",
              "  <thead>\n",
              "    <tr style=\"text-align: right;\">\n",
              "      <th></th>\n",
              "      <th>ID</th>\n",
              "      <th>ForeignID</th>\n",
              "      <th>subject</th>\n",
              "      <th>body</th>\n",
              "    </tr>\n",
              "  </thead>\n",
              "  <tbody>\n",
              "  </tbody>\n",
              "</table>\n",
              "</div>\n",
              "      <button class=\"colab-df-convert\" onclick=\"convertToInteractive('df-f85198b4-b929-4eb6-91f9-de44d9202ec7')\"\n",
              "              title=\"Convert this dataframe to an interactive table.\"\n",
              "              style=\"display:none;\">\n",
              "        \n",
              "  <svg xmlns=\"http://www.w3.org/2000/svg\" height=\"24px\"viewBox=\"0 0 24 24\"\n",
              "       width=\"24px\">\n",
              "    <path d=\"M0 0h24v24H0V0z\" fill=\"none\"/>\n",
              "    <path d=\"M18.56 5.44l.94 2.06.94-2.06 2.06-.94-2.06-.94-.94-2.06-.94 2.06-2.06.94zm-11 1L8.5 8.5l.94-2.06 2.06-.94-2.06-.94L8.5 2.5l-.94 2.06-2.06.94zm10 10l.94 2.06.94-2.06 2.06-.94-2.06-.94-.94-2.06-.94 2.06-2.06.94z\"/><path d=\"M17.41 7.96l-1.37-1.37c-.4-.4-.92-.59-1.43-.59-.52 0-1.04.2-1.43.59L10.3 9.45l-7.72 7.72c-.78.78-.78 2.05 0 2.83L4 21.41c.39.39.9.59 1.41.59.51 0 1.02-.2 1.41-.59l7.78-7.78 2.81-2.81c.8-.78.8-2.07 0-2.86zM5.41 20L4 18.59l7.72-7.72 1.47 1.35L5.41 20z\"/>\n",
              "  </svg>\n",
              "      </button>\n",
              "      \n",
              "  <style>\n",
              "    .colab-df-container {\n",
              "      display:flex;\n",
              "      flex-wrap:wrap;\n",
              "      gap: 12px;\n",
              "    }\n",
              "\n",
              "    .colab-df-convert {\n",
              "      background-color: #E8F0FE;\n",
              "      border: none;\n",
              "      border-radius: 50%;\n",
              "      cursor: pointer;\n",
              "      display: none;\n",
              "      fill: #1967D2;\n",
              "      height: 32px;\n",
              "      padding: 0 0 0 0;\n",
              "      width: 32px;\n",
              "    }\n",
              "\n",
              "    .colab-df-convert:hover {\n",
              "      background-color: #E2EBFA;\n",
              "      box-shadow: 0px 1px 2px rgba(60, 64, 67, 0.3), 0px 1px 3px 1px rgba(60, 64, 67, 0.15);\n",
              "      fill: #174EA6;\n",
              "    }\n",
              "\n",
              "    [theme=dark] .colab-df-convert {\n",
              "      background-color: #3B4455;\n",
              "      fill: #D2E3FC;\n",
              "    }\n",
              "\n",
              "    [theme=dark] .colab-df-convert:hover {\n",
              "      background-color: #434B5C;\n",
              "      box-shadow: 0px 1px 3px 1px rgba(0, 0, 0, 0.15);\n",
              "      filter: drop-shadow(0px 1px 2px rgba(0, 0, 0, 0.3));\n",
              "      fill: #FFFFFF;\n",
              "    }\n",
              "  </style>\n",
              "\n",
              "      <script>\n",
              "        const buttonEl =\n",
              "          document.querySelector('#df-f85198b4-b929-4eb6-91f9-de44d9202ec7 button.colab-df-convert');\n",
              "        buttonEl.style.display =\n",
              "          google.colab.kernel.accessAllowed ? 'block' : 'none';\n",
              "\n",
              "        async function convertToInteractive(key) {\n",
              "          const element = document.querySelector('#df-f85198b4-b929-4eb6-91f9-de44d9202ec7');\n",
              "          const dataTable =\n",
              "            await google.colab.kernel.invokeFunction('convertToInteractive',\n",
              "                                                     [key], {});\n",
              "          if (!dataTable) return;\n",
              "\n",
              "          const docLinkHtml = 'Like what you see? Visit the ' +\n",
              "            '<a target=\"_blank\" href=https://colab.research.google.com/notebooks/data_table.ipynb>data table notebook</a>'\n",
              "            + ' to learn more about interactive tables.';\n",
              "          element.innerHTML = '';\n",
              "          dataTable['output_type'] = 'display_data';\n",
              "          await google.colab.output.renderOutput(dataTable, element);\n",
              "          const docLink = document.createElement('div');\n",
              "          docLink.innerHTML = docLinkHtml;\n",
              "          element.appendChild(docLink);\n",
              "        }\n",
              "      </script>\n",
              "    </div>\n",
              "  </div>\n",
              "  "
            ],
            "text/plain": [
              "Empty DataFrame\n",
              "Columns: [ID, ForeignID, subject, body]\n",
              "Index: []"
            ]
          },
          "metadata": {},
          "execution_count": 72
        }
      ],
      "source": [
        "data.head()"
      ]
    },
    {
      "cell_type": "code",
      "source": [
        "def preprocessing_subject(str):\n",
        "  #remove RE:\n",
        "  str = re.sub(r'RE:|Re:',' ',str)\n",
        "  #remove FW:\n",
        "  str = re.sub(r'FW:|Fw:',' ',str)\n",
        "  #removing new line characters, tab characters,dashs\n",
        "  str = re.sub(r\"[\\n|\\t]\", \" \", str)\n",
        "  #removing HTML Tags\n",
        "  str = BeautifulSoup(str,'html.parser')\n",
        "  str = str.text\n",
        "  return str"
      ],
      "metadata": {
        "id": "nX25RM-N7Oud"
      },
      "execution_count": null,
      "outputs": []
    },
    {
      "cell_type": "code",
      "execution_count": null,
      "metadata": {
        "id": "0CirTe6bar9C"
      },
      "outputs": [],
      "source": [
        "def preprocessing(str):\n",
        "  #remove all the emails\n",
        "  str = process_email(str)\n",
        "  #remove From:\n",
        "  str = re.sub(r'From:.+\\n','',str)\n",
        "  #remove To:\n",
        "  str = re.sub(r'To:.+\\n','',str)\n",
        "  #remove sent:\n",
        "  str = re.sub(r'Sent:.+\\n','',str)\n",
        "  #remove bcc:\n",
        "  str = re.sub(r'Bcc:.+\\n','',str)\n",
        "  #removing new line characters, tab characters,dashs\n",
        "  str = re.sub(r\"[\\n|\\t]\", \" \", str)\n",
        "  #removing digits\n",
        "  #str = re.sub(r'\\d+',' ',str)\n",
        "  #removing HTML Tags\n",
        "  str = BeautifulSoup(str,'html.parser')\n",
        "  str = str.text\n",
        "  #removing website names\n",
        "  str = re.sub(r'http\\S+',\"[website]\",str)\n",
        "  #using chucking to remove the names of people and organizations\n",
        "  str = chunking(str)\n",
        "  return str"
      ]
    },
    {
      "cell_type": "code",
      "execution_count": null,
      "metadata": {
        "colab": {
          "base_uri": "https://localhost:8080/"
        },
        "id": "lEYjtKst8enU",
        "outputId": "444eb0d7-8437-4f35-ed77-34a37c3ca0ef"
      },
      "outputs": [
        {
          "output_type": "stream",
          "name": "stdout",
          "text": [
            "[nltk_data] Downloading package averaged_perceptron_tagger to\n",
            "[nltk_data]     /root/nltk_data...\n",
            "[nltk_data]   Package averaged_perceptron_tagger is already up-to-\n",
            "[nltk_data]       date!\n",
            "[nltk_data] Downloading package maxent_ne_chunker to\n",
            "[nltk_data]     /root/nltk_data...\n",
            "[nltk_data]   Package maxent_ne_chunker is already up-to-date!\n",
            "[nltk_data] Downloading package words to /root/nltk_data...\n",
            "[nltk_data]   Package words is already up-to-date!\n"
          ]
        },
        {
          "output_type": "execute_result",
          "data": {
            "text/plain": [
              "True"
            ]
          },
          "metadata": {},
          "execution_count": 75
        }
      ],
      "source": [
        "nltk.download('averaged_perceptron_tagger')\n",
        "nltk.download('maxent_ne_chunker')\n",
        "nltk.download('words')"
      ]
    },
    {
      "cell_type": "code",
      "execution_count": null,
      "metadata": {
        "id": "BAmQyFzB1KJY"
      },
      "outputs": [],
      "source": [
        "def process_email(str):\n",
        "  listofemail = re.sub(r'[\\w.+-]+@[\\w-]+\\.[\\w.-]+',' ',str)\n",
        "  return listofemail"
      ]
    },
    {
      "cell_type": "code",
      "execution_count": null,
      "metadata": {
        "id": "dio8BcQ68NFp"
      },
      "outputs": [],
      "source": [
        "def chunking(str):\n",
        "  parse_tree = nltk.ne_chunk(nltk.tag.pos_tag(str.split()))  # POS tagging before chunking!\n",
        "  str = \" \"\n",
        "  for i in list(parse_tree):\n",
        "    if(isinstance(i,nltk.tree.Tree)):\n",
        "      if((i.label()!='PERSON') & (i.label()!='ORGANIZATION')):\n",
        "        for index,leaf in enumerate(i.leaves()):\n",
        "            str = str + leaf[0]+ \" \"\n",
        "      elif((i.label()=='PERSON')):\n",
        "        str = str + '[name]' + \" \"\n",
        "      else:\n",
        "        str = str + '[org]' + \" \"\n",
        "    else:\n",
        "      str = str + i[0]+\" \"\n",
        "  return str"
      ]
    },
    {
      "cell_type": "code",
      "source": [
        "chunking(\"Eric Thode@ENRON 11/30/2000 08:25 AM\")"
      ],
      "metadata": {
        "colab": {
          "base_uri": "https://localhost:8080/",
          "height": 35
        },
        "id": "Uv8Y-_QQShNj",
        "outputId": "bc4234d3-f3f8-4dea-e47f-9b4f51c4bd02"
      },
      "execution_count": null,
      "outputs": [
        {
          "output_type": "execute_result",
          "data": {
            "application/vnd.google.colaboratory.intrinsic+json": {
              "type": "string"
            },
            "text/plain": [
              "' [name] Thode@ENRON 11/30/2000 08:25 AM '"
            ]
          },
          "metadata": {},
          "execution_count": 77
        }
      ]
    },
    {
      "cell_type": "code",
      "execution_count": null,
      "metadata": {
        "id": "nGkUPJgmYCJx"
      },
      "outputs": [],
      "source": [
        "#file_names = ['Testing.txt']"
      ]
    },
    {
      "cell_type": "code",
      "execution_count": null,
      "metadata": {
        "colab": {
          "base_uri": "https://localhost:8080/"
        },
        "id": "JG6dJkI70_Ml",
        "outputId": "f1265ee3-f21c-4127-9991-e6a66c20f7d6"
      },
      "outputs": [
        {
          "output_type": "stream",
          "name": "stderr",
          "text": [
            "100%|██████████| 92379/92379 [5:32:19<00:00,  4.63it/s]\n"
          ]
        }
      ],
      "source": [
        "#file_name = 'Testing.txt'\n",
        "\n",
        "global_id = 0;\n",
        "for file_name in tqdm(file_names):\n",
        "  with open(file_name, encoding=\"utf8\", errors='ignore') as file:\n",
        "    lines = file.readlines()\n",
        "    indexes = []\n",
        "    for index,line in enumerate(lines):\n",
        "      if(('--Original Message--' in line) | ('-- Forwarded by' in line)):\n",
        "        indexes.append(index)\n",
        "    indexes.append(len(lines))\n",
        "    prev = 0\n",
        "    skips = ['-- Forwarded by','cc',\"Cc:\",\"--Original Message--\",\"Message-ID:\",'Mime-Version:','Content-Type:','Content-Transfer-Encoding:','X-']\n",
        "    foreign_id = -1\n",
        "    for index in indexes:\n",
        "      date = \"\"\n",
        "      subject = \"\"\n",
        "      body= \"\"\n",
        "      for line in lines[prev:index]:\n",
        "        flag_skip = 0\n",
        "        for skip_words in skips:\n",
        "          if skip_words in line:\n",
        "            flag_skip = 1\n",
        "            break\n",
        "        if flag_skip == 1:\n",
        "          continue\n",
        "        if \"Date:\" in line:\n",
        "          date = line[5:]\n",
        "        elif \"Sent:\" in line:\n",
        "          date = line[5:]\n",
        "        elif \"Subject:\" in line:\n",
        "          subject = line[8:] \n",
        "        else:\n",
        "          body = body + line\n",
        "      prev = index\n",
        "      body = preprocessing(body)\n",
        "      subject = preprocessing_subject(subject)\n",
        "      data = data.append({'ID':global_id,'ForeignID':foreign_id,'subject':subject,'body':body},ignore_index=True)\n",
        "      foreign_id = global_id\n",
        "      global_id +=1\n",
        "           \n",
        "\n",
        "\n"
      ]
    },
    {
      "cell_type": "code",
      "source": [
        "data.head()"
      ],
      "metadata": {
        "colab": {
          "base_uri": "https://localhost:8080/",
          "height": 206
        },
        "id": "1PJnpKuXEURU",
        "outputId": "2da7005a-20da-441a-f357-b9755df82fda"
      },
      "execution_count": null,
      "outputs": [
        {
          "output_type": "execute_result",
          "data": {
            "text/html": [
              "\n",
              "  <div id=\"df-7f307d8d-9088-4d07-be1a-8074c41dd50f\">\n",
              "    <div class=\"colab-df-container\">\n",
              "      <div>\n",
              "<style scoped>\n",
              "    .dataframe tbody tr th:only-of-type {\n",
              "        vertical-align: middle;\n",
              "    }\n",
              "\n",
              "    .dataframe tbody tr th {\n",
              "        vertical-align: top;\n",
              "    }\n",
              "\n",
              "    .dataframe thead th {\n",
              "        text-align: right;\n",
              "    }\n",
              "</style>\n",
              "<table border=\"1\" class=\"dataframe\">\n",
              "  <thead>\n",
              "    <tr style=\"text-align: right;\">\n",
              "      <th></th>\n",
              "      <th>ID</th>\n",
              "      <th>ForeignID</th>\n",
              "      <th>subject</th>\n",
              "      <th>body</th>\n",
              "    </tr>\n",
              "  </thead>\n",
              "  <tbody>\n",
              "    <tr>\n",
              "      <th>0</th>\n",
              "      <td>0</td>\n",
              "      <td>-1</td>\n",
              "      <td></td>\n",
              "      <td>[website]</td>\n",
              "    </tr>\n",
              "    <tr>\n",
              "      <th>1</th>\n",
              "      <td>1</td>\n",
              "      <td>-1</td>\n",
              "      <td></td>\n",
              "      <td></td>\n",
              "    </tr>\n",
              "    <tr>\n",
              "      <th>2</th>\n",
              "      <td>2</td>\n",
              "      <td>-1</td>\n",
              "      <td>interesting article on lisp and software deve...</td>\n",
              "      <td>oops. [website] definitely read at least the ...</td>\n",
              "    </tr>\n",
              "    <tr>\n",
              "      <th>3</th>\n",
              "      <td>3</td>\n",
              "      <td>-1</td>\n",
              "      <td>interesting article on lisp and software deve...</td>\n",
              "      <td>if you have a bit of time, you might find it ...</td>\n",
              "    </tr>\n",
              "    <tr>\n",
              "      <th>4</th>\n",
              "      <td>4</td>\n",
              "      <td>-1</td>\n",
              "      <td>watch other eol products</td>\n",
              "      <td>how do you watch other eol products -- to che...</td>\n",
              "    </tr>\n",
              "  </tbody>\n",
              "</table>\n",
              "</div>\n",
              "      <button class=\"colab-df-convert\" onclick=\"convertToInteractive('df-7f307d8d-9088-4d07-be1a-8074c41dd50f')\"\n",
              "              title=\"Convert this dataframe to an interactive table.\"\n",
              "              style=\"display:none;\">\n",
              "        \n",
              "  <svg xmlns=\"http://www.w3.org/2000/svg\" height=\"24px\"viewBox=\"0 0 24 24\"\n",
              "       width=\"24px\">\n",
              "    <path d=\"M0 0h24v24H0V0z\" fill=\"none\"/>\n",
              "    <path d=\"M18.56 5.44l.94 2.06.94-2.06 2.06-.94-2.06-.94-.94-2.06-.94 2.06-2.06.94zm-11 1L8.5 8.5l.94-2.06 2.06-.94-2.06-.94L8.5 2.5l-.94 2.06-2.06.94zm10 10l.94 2.06.94-2.06 2.06-.94-2.06-.94-.94-2.06-.94 2.06-2.06.94z\"/><path d=\"M17.41 7.96l-1.37-1.37c-.4-.4-.92-.59-1.43-.59-.52 0-1.04.2-1.43.59L10.3 9.45l-7.72 7.72c-.78.78-.78 2.05 0 2.83L4 21.41c.39.39.9.59 1.41.59.51 0 1.02-.2 1.41-.59l7.78-7.78 2.81-2.81c.8-.78.8-2.07 0-2.86zM5.41 20L4 18.59l7.72-7.72 1.47 1.35L5.41 20z\"/>\n",
              "  </svg>\n",
              "      </button>\n",
              "      \n",
              "  <style>\n",
              "    .colab-df-container {\n",
              "      display:flex;\n",
              "      flex-wrap:wrap;\n",
              "      gap: 12px;\n",
              "    }\n",
              "\n",
              "    .colab-df-convert {\n",
              "      background-color: #E8F0FE;\n",
              "      border: none;\n",
              "      border-radius: 50%;\n",
              "      cursor: pointer;\n",
              "      display: none;\n",
              "      fill: #1967D2;\n",
              "      height: 32px;\n",
              "      padding: 0 0 0 0;\n",
              "      width: 32px;\n",
              "    }\n",
              "\n",
              "    .colab-df-convert:hover {\n",
              "      background-color: #E2EBFA;\n",
              "      box-shadow: 0px 1px 2px rgba(60, 64, 67, 0.3), 0px 1px 3px 1px rgba(60, 64, 67, 0.15);\n",
              "      fill: #174EA6;\n",
              "    }\n",
              "\n",
              "    [theme=dark] .colab-df-convert {\n",
              "      background-color: #3B4455;\n",
              "      fill: #D2E3FC;\n",
              "    }\n",
              "\n",
              "    [theme=dark] .colab-df-convert:hover {\n",
              "      background-color: #434B5C;\n",
              "      box-shadow: 0px 1px 3px 1px rgba(0, 0, 0, 0.15);\n",
              "      filter: drop-shadow(0px 1px 2px rgba(0, 0, 0, 0.3));\n",
              "      fill: #FFFFFF;\n",
              "    }\n",
              "  </style>\n",
              "\n",
              "      <script>\n",
              "        const buttonEl =\n",
              "          document.querySelector('#df-7f307d8d-9088-4d07-be1a-8074c41dd50f button.colab-df-convert');\n",
              "        buttonEl.style.display =\n",
              "          google.colab.kernel.accessAllowed ? 'block' : 'none';\n",
              "\n",
              "        async function convertToInteractive(key) {\n",
              "          const element = document.querySelector('#df-7f307d8d-9088-4d07-be1a-8074c41dd50f');\n",
              "          const dataTable =\n",
              "            await google.colab.kernel.invokeFunction('convertToInteractive',\n",
              "                                                     [key], {});\n",
              "          if (!dataTable) return;\n",
              "\n",
              "          const docLinkHtml = 'Like what you see? Visit the ' +\n",
              "            '<a target=\"_blank\" href=https://colab.research.google.com/notebooks/data_table.ipynb>data table notebook</a>'\n",
              "            + ' to learn more about interactive tables.';\n",
              "          element.innerHTML = '';\n",
              "          dataTable['output_type'] = 'display_data';\n",
              "          await google.colab.output.renderOutput(dataTable, element);\n",
              "          const docLink = document.createElement('div');\n",
              "          docLink.innerHTML = docLinkHtml;\n",
              "          element.appendChild(docLink);\n",
              "        }\n",
              "      </script>\n",
              "    </div>\n",
              "  </div>\n",
              "  "
            ],
            "text/plain": [
              "  ID ForeignID                                            subject  \\\n",
              "0  0        -1                                                      \n",
              "1  1        -1                                                      \n",
              "2  2        -1   interesting article on lisp and software deve...   \n",
              "3  3        -1   interesting article on lisp and software deve...   \n",
              "4  4        -1                          watch other eol products    \n",
              "\n",
              "                                                body  \n",
              "0                                         [website]   \n",
              "1                                                     \n",
              "2   oops. [website] definitely read at least the ...  \n",
              "3   if you have a bit of time, you might find it ...  \n",
              "4   how do you watch other eol products -- to che...  "
            ]
          },
          "metadata": {},
          "execution_count": 82
        }
      ]
    },
    {
      "cell_type": "code",
      "source": [
        "data.to_csv('email_prepared_data_v2.csv')"
      ],
      "metadata": {
        "id": "EbbK3EAVH0XX"
      },
      "execution_count": null,
      "outputs": []
    },
    {
      "cell_type": "code",
      "execution_count": null,
      "metadata": {
        "colab": {
          "base_uri": "https://localhost:8080/"
        },
        "id": "qbef_nKf1sOX",
        "outputId": "92531971-2fda-4da1-ea49-b925c139df62"
      },
      "outputs": [
        {
          "output_type": "stream",
          "name": "stdout",
          "text": [
            " [website] \n",
            "********************\n",
            " \n",
            "********************\n",
            " oops. [website] definitely read at least the 2nd to last paragraph in the pdf. [org] HEIZENRADER 05/01/2001 03:38 PM Umm... was there to be an attachment or a URL? Tim if you have a bit of time, you might find it entertaining. \n",
            "********************\n",
            " if you have a bit of time, you might find it entertaining. \n",
            "********************\n",
            " how do you watch other eol products -- to check for the fake transaction? \n",
            "********************\n",
            " I made a new fatboy sheet that should fit all our customers profile. The template is in the new folder P\\RealTime\\Fatboy\\Fatboysheet Template. Hopefully this can limit the number of different sheets we currently are using. I put it in the P drive as it is local and will limit our dependency on terminal server. Geir \n",
            "********************\n",
            " 09:06 AM --------------------------- [name] < > on 05/01/2000 04:26:30 AM Vince, How are you? Hope all is well. Is there any chance we can schedule my visit to [name] on Friday, May 19, or Friday, May 26? By the end of April I was able to attract a top new student to work on the project. The other one for the coming year will be Giuseppe. By spending the summer at Enron, he will be in a position to bring the new one up to speed and create an intellectual team here at [org] to look at these problems. I must move ahead soon to put the project in place and get the work going. Talk to you soon, [name] wrote: > > Nick, > > We can close the loop on our commitment to support the research projects > before your visit to Enron. > > My assistant, [name] Crenshaw, will call you to set up a conference call > with me, [name] Gibner, > and [name] from [name] Services to discuss all the isssues. > Friday this week would work for > both Tom and me. I think we need about 15 minutes. > > Vince > > P.S. Shirley, Nick's phone number is 650 796 8163 (cell), 650-725-5525 > (office). > > [name] < > on 03/12/2000 05:32:35 PM > > > > Hello Vince, > > It was nice seeing you at [org] and many thanks for the lunch > we had together. I really enjoyed our discussions, both at the > technical level and otherwise. > > I promised to send you an e-mail regarding possible dates for > a visit to Enron. I delayed it for a week till my schedule was > clearer. Let's see if we can get a match with your schedule - > mine is rather terrible: > > Friday, 21st of April looks good. But April 23rd is [name] > Sunday, so that may make it difficult for some people at [org] > to be around. Let me know if that is the case. I am willing to > visit then, because the week after that I am scheduled to be in > Japan and in the previous weeks I am all committed on Fridays. > > Friday, 19th of May is the next possibility, but this probably > is too far out. The main problem is that I am operating within > a window of opportunity for attracting top students for this > research. This window closes by the end of April, and it would be > important for the student support funds to be in place then, so > that I can make hard commitments to students and attract top > talent. I am already reviewing files of students who have > approached me for [org] advising, and I am in a mode of doing \"soft > commitments to star-level students\" to get this research and its > potential on their radar screen. Top students are highly sought > after by advisors and I want to be an early player in this > competition. > > Does my visit to Enron have to happen before we can set up the > project and student support at Stanford? If so, doing it before the > end of April is important for getting top people. If the visit can > happen after we get the ball rolling, then we can schedule it in May. > I assume there will be multiple visits both ways when the project gets > going. Please let me know what you think. > > Best Regards, > > Nick \n"
          ]
        }
      ],
      "source": [
        "print(data.iloc[0]['body'])\n",
        "print('*'*20)\n",
        "print(data.iloc[1]['body'])\n",
        "print('*'*20)\n",
        "print(data.iloc[2]['body'])\n",
        "print('*'*20)\n",
        "print(data.iloc[3]['body'])\n",
        "print('*'*20)\n",
        "print(data.iloc[4]['body'])\n",
        "print('*'*20)\n",
        "print(data.iloc[-3]['body'])\n",
        "print('*'*20)\n",
        "print(data.iloc[-1]['body'])"
      ]
    },
    {
      "cell_type": "code",
      "execution_count": null,
      "metadata": {
        "id": "HOD98RnIzqRC"
      },
      "outputs": [],
      "source": [
        "abc = process_email(data.iloc[0]['body'])"
      ]
    },
    {
      "cell_type": "code",
      "execution_count": null,
      "metadata": {
        "colab": {
          "base_uri": "https://localhost:8080/",
          "height": 105
        },
        "id": "-oZfa8_m2L90",
        "outputId": "31143834-bbe1-4fd6-c626-8c73ffe21ba1"
      },
      "outputs": [
        {
          "data": {
            "application/vnd.google.colaboratory.intrinsic+json": {
              "type": "string"
            },
            "text/plain": [
              "'From: \\nTo: , , , \\n\\t, , , \\n\\t, , , \\n\\t, , , \\n\\t, , , \\n\\t, , \\n\\t, , \\n\\t, , \\n\\t, , \\n\\t, , \\n\\t, \\n\\nAttached is a redline redraft of the Joint Initial Brief Opposing Limitations\\non Lifting the Rate Cap to Exclude Pipeline Short-Term Service.  Please let\\nme know if your company intends to be a petitioner or intervener in support\\non the brief.  Consistent with an e-mail you will be receiving from Joan\\nDreskin, please furnish any comments to me by Wednesday, March 21, and we\\nwill e-mail a final draft to you by Tuesday, March 27.\\n\\nJames D. McKinney, Jr.\\n\\n - Redline.98-1333.Brief.doc '"
            ]
          },
          "execution_count": 99,
          "metadata": {},
          "output_type": "execute_result"
        }
      ],
      "source": [
        "abc"
      ]
    }
  ],
  "metadata": {
    "accelerator": "GPU",
    "colab": {
      "collapsed_sections": [],
      "machine_shape": "hm",
      "name": "Case Study 2 preprocess.ipynb",
      "provenance": []
    },
    "kernelspec": {
      "display_name": "Python 3",
      "name": "python3"
    },
    "language_info": {
      "name": "python"
    }
  },
  "nbformat": 4,
  "nbformat_minor": 0
}