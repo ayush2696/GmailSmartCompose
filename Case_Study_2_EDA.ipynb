{
  "nbformat": 4,
  "nbformat_minor": 0,
  "metadata": {
    "colab": {
      "name": "Case Study 2 EDA.ipynb",
      "provenance": [],
      "collapsed_sections": []
    },
    "kernelspec": {
      "name": "python3",
      "display_name": "Python 3"
    },
    "language_info": {
      "name": "python"
    }
  },
  "cells": [
    {
      "cell_type": "code",
      "execution_count": null,
      "metadata": {
        "id": "KV3MaimgN8ye"
      },
      "outputs": [],
      "source": [
        "import re\n",
        "import nltk\n",
        "import pandas as pd\n",
        "import os\n",
        "from tqdm import tqdm\n",
        "from bs4 import BeautifulSoup\n",
        "import numpy as np\n",
        "import seaborn as sns\n",
        "import math\n",
        "import matplotlib.pyplot as plt\n",
        "from tensorflow.keras.preprocessing.text import Tokenizer"
      ]
    },
    {
      "cell_type": "markdown",
      "source": [
        "### Read the CSV File"
      ],
      "metadata": {
        "id": "Dr2MzRwoOHXE"
      }
    },
    {
      "cell_type": "code",
      "source": [
        "data = pd.read_csv('final.v4.csv')"
      ],
      "metadata": {
        "id": "8xekYdgOOGIN"
      },
      "execution_count": null,
      "outputs": []
    },
    {
      "cell_type": "markdown",
      "source": [
        "## Split the data in Train, Test and Validation"
      ],
      "metadata": {
        "id": "T-huqI-7Oaz2"
      }
    },
    {
      "cell_type": "code",
      "source": [
        "from sklearn.model_selection import train_test_split\n",
        "X_train,X_test = train_test_split(data,test_size = 0.4)\n",
        "X_validation,X_test =  train_test_split(X_test,test_size = 0.5)"
      ],
      "metadata": {
        "id": "G31miRYHOiX9"
      },
      "execution_count": null,
      "outputs": []
    },
    {
      "cell_type": "code",
      "source": [
        "print(X_train.shape)\n",
        "print(X_validation.shape)\n",
        "print(X_test.shape)"
      ],
      "metadata": {
        "colab": {
          "base_uri": "https://localhost:8080/"
        },
        "id": "23JKJaMJOk2W",
        "outputId": "3f4ee5b3-33b7-4db1-d2a5-5757647a2d7e"
      },
      "execution_count": null,
      "outputs": [
        {
          "output_type": "stream",
          "name": "stdout",
          "text": [
            "(72295, 4)\n",
            "(24099, 4)\n",
            "(24099, 4)\n"
          ]
        }
      ]
    },
    {
      "cell_type": "code",
      "source": [
        "X_train.to_csv(\"X_train.csv\")\n",
        "X_validation.to_csv(\"X_validation.csv\")\n",
        "X_test.to_csv(\"X_test.csv\")"
      ],
      "metadata": {
        "id": "rc7dkU_JOnrx"
      },
      "execution_count": null,
      "outputs": []
    },
    {
      "cell_type": "markdown",
      "source": [
        "#### Since in our data we see a lot of punctuations, so we can first tokenize the data and then do analysis.\n",
        "#### Analysis Steps:-\n",
        " 1. Tokenize TRAIN, VALIDATION, and TEST Data.\n",
        " 2. Convert the columns for all the above into sequences.\n",
        " 3. Analyse the word count in each sentence for all the three columns. For this we will check the percentiles and histograms.\n",
        " 4. Word distribution in all the three datasets."
      ],
      "metadata": {
        "id": "k0hbKok3PBTq"
      }
    },
    {
      "cell_type": "code",
      "source": [
        "#Convert the NaN to blanks\n",
        "#Convert the columns to string \n",
        "\n",
        "#TRAIN\n",
        "X_train['previous_email'].replace({np.NaN: \"\"},inplace = True)\n",
        "X_train['subject'].replace({np.NaN: \"\"},inplace = True)\n",
        "X_train['subject'] = pd.Series(X_train['subject'], dtype=\"string\")\n",
        "X_train['previous_email'] = pd.Series(X_train['previous_email'], dtype=\"string\")\n",
        "\n",
        "#Test\n",
        "X_test['previous_email'].replace({np.NaN: \"\"},inplace = True)\n",
        "X_test['subject'].replace({np.NaN: \"\"},inplace = True)\n",
        "X_test['subject'] = pd.Series(X_test['subject'], dtype=\"string\")\n",
        "X_test['previous_email'] = pd.Series(X_test['previous_email'], dtype=\"string\")\n",
        "\n",
        "#Validation\n",
        "X_validation['previous_email'].replace({np.NaN: \"\"},inplace = True)\n",
        "X_validation['subject'].replace({np.NaN: \"\"},inplace = True)\n",
        "X_validation['subject'] = pd.Series(X_validation['subject'], dtype=\"string\")\n",
        "X_validation['previous_email'] = pd.Series(X_validation['previous_email'], dtype=\"string\")"
      ],
      "metadata": {
        "id": "NT0xM7zGO2hI"
      },
      "execution_count": null,
      "outputs": []
    },
    {
      "cell_type": "markdown",
      "source": [
        "## Utility Functions"
      ],
      "metadata": {
        "id": "WyLxPNNKSNdR"
      }
    },
    {
      "cell_type": "code",
      "source": [
        "def create_tokenizer(data):\n",
        "  #create tokenizer\n",
        "  body_tokenizer = Tokenizer()\n",
        "  subject_tokenizer = Tokenizer()\n",
        "  previous_email_tokenizer = Tokenizer()\n",
        "  return body_tokenizer,subject_tokenizer,previous_email_tokenizer\n",
        "\n",
        "def fit_tokenizer(data,body_tokenizer,subject_tokenizer,previous_email_tokenizer):\n",
        "  body_tokenizer.fit_on_texts(data['body'])\n",
        "  subject_tokenizer.fit_on_texts(data['subject'])\n",
        "  previous_email_tokenizer.fit_on_texts(data['previous_email'])\n",
        "  return body_tokenizer,subject_tokenizer,previous_email_tokenizer\n",
        "\n",
        "def text_to_seq(data,body_tokenizer,subject_tokenizer,previous_email_tokenizer):\n",
        "  tensor_body = body_tokenizer.texts_to_sequences(data['body'])\n",
        "  tensor_subject= subject_tokenizer.texts_to_sequences(data['subject'])\n",
        "  tensor_previous_email = previous_email_tokenizer.texts_to_sequences(data['previous_email'])\n",
        "  return tensor_body,tensor_subject,tensor_previous_email\n",
        "\n",
        "def get_word_count(sequences):\n",
        "  word_count = []\n",
        "  for datapoint in tqdm(sequences):\n",
        "    word_count.append(len(datapoint))\n",
        "  return word_count\n",
        "\n",
        "def get_and_print_percentile(word_count):\n",
        "  sorted_word_count = sorted(word_count)\n",
        "  print(\"0 - 100 percentile with at a interval of 10\")\n",
        "  print(\"*\"*50)\n",
        "  for i in range(0,101,10):\n",
        "    print(\"%d percentile - %d number of words\"%(i,sorted_word_count[math.floor((len(sorted_word_count)-1)*(i/100))]))\n",
        "  print(\"*\"*50)\n",
        "  print(\"90 - 100 percentile with at a interval of 1\")\n",
        "  print(\"*\"*50)\n",
        "  for i in range(90,101,1):\n",
        "    print(\"%d percentile - %d number of words\"%(i,sorted_word_count[math.floor((len(sorted_word_count)-1)*(i/100))]))\n",
        "  print(\"*\"*50)\n",
        "  print(\"99 - 100 percentile with at a interval of 0.1\")\n",
        "  print(\"*\"*50)\n",
        "  pointer = 98.9\n",
        "  for i in range(0,11,1):\n",
        "    pointer += 0.1\n",
        "    print(\"%0.1f percentile - %d number of words\"%(pointer,sorted_word_count[math.floor((len(sorted_word_count))*(pointer/100))]))\n",
        "\n",
        "\n",
        "def get_histogram(word_count,name,start_percentile = 0,end_percentile = 100):\n",
        "  word_count = sorted(word_count)\n",
        "  sns.histplot(word_count[math.floor((len(word_count)-1)*(start_percentile/100)):math.floor((len(word_count)-1)*(end_percentile/100))])\n",
        "  plt.title(\"Word - Count graph of \" + name)\n",
        "  plt.xlabel(\"words in sentences\")\n",
        "  plt.show()"
      ],
      "metadata": {
        "id": "BCOi4kekRAUe"
      },
      "execution_count": null,
      "outputs": []
    },
    {
      "cell_type": "markdown",
      "source": [
        "### X_train Tokenzation:"
      ],
      "metadata": {
        "id": "x5-1O20FRLef"
      }
    },
    {
      "cell_type": "code",
      "source": [
        "#For X_train\n",
        "body_tokenizer_train,subject_tokenizer_train,previous_email_tokenizer_train = create_tokenizer(X_train)\n",
        "body_tokenizer_train,subject_tokenizer_train,previous_email_tokenizer_train = fit_tokenizer(X_train,body_tokenizer_train,subject_tokenizer_train,previous_email_tokenizer_train )\n",
        "tensor_body_train,tensor_subject_train,tensor_previous_email_train = text_to_seq(X_train,body_tokenizer_train,subject_tokenizer_train,previous_email_tokenizer_train )\n",
        "word_count_body_train = get_word_count(tensor_body_train)\n",
        "word_count_sub_train = get_word_count(tensor_subject_train)\n",
        "word_count_prev_mail_train = get_word_count(tensor_previous_email_train)"
      ],
      "metadata": {
        "colab": {
          "base_uri": "https://localhost:8080/"
        },
        "id": "D70b-pdURKux",
        "outputId": "95f1314a-7f9e-4b9b-8cb1-db848a84d268"
      },
      "execution_count": null,
      "outputs": [
        {
          "output_type": "stream",
          "name": "stderr",
          "text": [
            "100%|██████████| 72295/72295 [00:00<00:00, 2239508.47it/s]\n",
            "100%|██████████| 72295/72295 [00:00<00:00, 2215407.15it/s]\n",
            "100%|██████████| 72295/72295 [00:00<00:00, 2435520.78it/s]\n"
          ]
        }
      ]
    },
    {
      "cell_type": "markdown",
      "source": [
        "### X_train Analysis\n",
        "#### Body Column"
      ],
      "metadata": {
        "id": "FDN14_dASZtj"
      }
    },
    {
      "cell_type": "markdown",
      "source": [
        "Histogram"
      ],
      "metadata": {
        "id": "zZeE46hESmsq"
      }
    },
    {
      "cell_type": "code",
      "source": [
        "#plot Body histogram\n",
        "get_histogram(word_count_body_train,\"Body\",100)"
      ],
      "metadata": {
        "colab": {
          "base_uri": "https://localhost:8080/",
          "height": 295
        },
        "id": "qDk_qp0DShMo",
        "outputId": "e9629b88-cfcc-418e-a826-b81d53adaa04"
      },
      "execution_count": null,
      "outputs": [
        {
          "output_type": "display_data",
          "data": {
            "image/png": "[encoded data removed]",
            "text/plain": [
              "<Figure size 432x288 with 1 Axes>"
            ]
          },
          "metadata": {
            "needs_background": "light"
          }
        }
      ]
    },
    {
      "cell_type": "markdown",
      "source": [
        "### Observations:\n",
        "\n",
        "1. The graph is not very clear, it could be due to outlier, we will need to take a closer look into the data."
      ],
      "metadata": {
        "id": "7qtdcBRdVR69"
      }
    },
    {
      "cell_type": "markdown",
      "source": [
        "Percentiles"
      ],
      "metadata": {
        "id": "KV5OZ26XSpTz"
      }
    },
    {
      "cell_type": "code",
      "source": [
        "get_and_print_percentile(word_count_body_train)"
      ],
      "metadata": {
        "colab": {
          "base_uri": "https://localhost:8080/"
        },
        "id": "zxPFxsVlSjgM",
        "outputId": "6239260d-b1b9-4d0c-b46e-f45965539f4f"
      },
      "execution_count": null,
      "outputs": [
        {
          "output_type": "stream",
          "name": "stdout",
          "text": [
            "0 - 100 percentile with at a interval of 10\n",
            "**************************************************\n",
            "0 percentile - 0 number of words\n",
            "10 percentile - 9 number of words\n",
            "20 percentile - 17 number of words\n",
            "30 percentile - 28 number of words\n",
            "40 percentile - 41 number of words\n",
            "50 percentile - 59 number of words\n",
            "60 percentile - 84 number of words\n",
            "70 percentile - 120 number of words\n",
            "80 percentile - 180 number of words\n",
            "90 percentile - 319 number of words\n",
            "100 percentile - 35456 number of words\n",
            "**************************************************\n",
            "90 - 100 percentile with at a interval of 1\n",
            "**************************************************\n",
            "90 percentile - 319 number of words\n",
            "91 percentile - 346 number of words\n",
            "92 percentile - 384 number of words\n",
            "93 percentile - 427 number of words\n",
            "94 percentile - 476 number of words\n",
            "95 percentile - 543 number of words\n",
            "96 percentile - 628 number of words\n",
            "97 percentile - 765 number of words\n",
            "98 percentile - 1012 number of words\n",
            "99 percentile - 1622 number of words\n",
            "100 percentile - 35456 number of words\n",
            "**************************************************\n",
            "99 - 100 percentile with at a interval of 0.1\n",
            "**************************************************\n",
            "99.0 percentile - 1625 number of words\n",
            "99.1 percentile - 1705 number of words\n",
            "99.2 percentile - 1826 number of words\n",
            "99.3 percentile - 1958 number of words\n",
            "99.4 percentile - 2140 number of words\n",
            "99.5 percentile - 2334 number of words\n",
            "99.6 percentile - 2731 number of words\n",
            "99.7 percentile - 3279 number of words\n",
            "99.8 percentile - 4797 number of words\n",
            "99.9 percentile - 8457 number of words\n",
            "100.0 percentile - 35456 number of words\n"
          ]
        }
      ]
    },
    {
      "cell_type": "markdown",
      "source": [
        "### Observations:\n",
        "\n",
        "1. We see that the 99th percentile has a value of 1625 whereas the 100th percentile has a value which is very high(35456), so we can take the max. sentence length of 1625."
      ],
      "metadata": {
        "id": "6WlZSOkPU3wD"
      }
    },
    {
      "cell_type": "markdown",
      "source": [
        "Histogram"
      ],
      "metadata": {
        "id": "0i7I-XnXSuG9"
      }
    },
    {
      "cell_type": "code",
      "source": [
        "get_histogram(word_count_body_train,\"Body\",0,99)"
      ],
      "metadata": {
        "colab": {
          "base_uri": "https://localhost:8080/",
          "height": 295
        },
        "id": "jnZvVWZuSw14",
        "outputId": "42d4118f-edff-42b4-c3d6-99619b16950c"
      },
      "execution_count": null,
      "outputs": [
        {
          "output_type": "display_data",
          "data": {
            "image/png": "[encoded data removed]",
            "text/plain": [
              "<Figure size 432x288 with 1 Axes>"
            ]
          },
          "metadata": {
            "needs_background": "light"
          }
        }
      ]
    },
    {
      "cell_type": "markdown",
      "source": [
        "### Observations:\n",
        "\n",
        "1. We see that after tokenization around 4000 records have a 0 word count in a sequence. So we may drop these columns."
      ],
      "metadata": {
        "id": "t5hABsuVUeFy"
      }
    },
    {
      "cell_type": "markdown",
      "source": [
        "#### Subject Column"
      ],
      "metadata": {
        "id": "UStOM8uxS86W"
      }
    },
    {
      "cell_type": "markdown",
      "source": [
        "Percentiles"
      ],
      "metadata": {
        "id": "aYc28oaVTJum"
      }
    },
    {
      "cell_type": "code",
      "source": [
        "get_and_print_percentile(word_count_sub_train)"
      ],
      "metadata": {
        "colab": {
          "base_uri": "https://localhost:8080/"
        },
        "id": "p_WVzdpOTJun",
        "outputId": "93e1adce-0a1d-43d8-e330-aebacc5c6f3f"
      },
      "execution_count": null,
      "outputs": [
        {
          "output_type": "stream",
          "name": "stdout",
          "text": [
            "0 - 100 percentile with at a interval of 10\n",
            "**************************************************\n",
            "0 percentile - 0 number of words\n",
            "10 percentile - 1 number of words\n",
            "20 percentile - 2 number of words\n",
            "30 percentile - 2 number of words\n",
            "40 percentile - 3 number of words\n",
            "50 percentile - 3 number of words\n",
            "60 percentile - 4 number of words\n",
            "70 percentile - 5 number of words\n",
            "80 percentile - 6 number of words\n",
            "90 percentile - 8 number of words\n",
            "100 percentile - 26 number of words\n",
            "**************************************************\n",
            "90 - 100 percentile with at a interval of 1\n",
            "**************************************************\n",
            "90 percentile - 8 number of words\n",
            "91 percentile - 8 number of words\n",
            "92 percentile - 8 number of words\n",
            "93 percentile - 9 number of words\n",
            "94 percentile - 9 number of words\n",
            "95 percentile - 9 number of words\n",
            "96 percentile - 10 number of words\n",
            "97 percentile - 10 number of words\n",
            "98 percentile - 11 number of words\n",
            "99 percentile - 12 number of words\n",
            "100 percentile - 26 number of words\n",
            "**************************************************\n",
            "99 - 100 percentile with at a interval of 0.1\n",
            "**************************************************\n",
            "99.0 percentile - 12 number of words\n",
            "99.1 percentile - 12 number of words\n",
            "99.2 percentile - 12 number of words\n",
            "99.3 percentile - 12 number of words\n",
            "99.4 percentile - 12 number of words\n",
            "99.5 percentile - 13 number of words\n",
            "99.6 percentile - 13 number of words\n",
            "99.7 percentile - 13 number of words\n",
            "99.8 percentile - 14 number of words\n",
            "99.9 percentile - 15 number of words\n",
            "100.0 percentile - 26 number of words\n"
          ]
        }
      ]
    },
    {
      "cell_type": "markdown",
      "source": [
        "### Observations:\n",
        "\n",
        "1. We observe that 99.9 percentile of subjects have a length less than or equal to 15 words and only 0.1 percentile of them cross the 15 words per subject mark."
      ],
      "metadata": {
        "id": "S7FLcIgBZCxR"
      }
    },
    {
      "cell_type": "markdown",
      "source": [
        "#### Previous Email Column"
      ],
      "metadata": {
        "id": "AB_jc_KrTMua"
      }
    },
    {
      "cell_type": "markdown",
      "source": [
        "Percentiles"
      ],
      "metadata": {
        "id": "AKqGwE7iTQd_"
      }
    },
    {
      "cell_type": "code",
      "source": [
        "get_and_print_percentile(word_count_prev_mail_train)"
      ],
      "metadata": {
        "colab": {
          "base_uri": "https://localhost:8080/"
        },
        "id": "UQGHt-FiTQd_",
        "outputId": "425be30c-567d-42a0-9a50-c4562ae76308"
      },
      "execution_count": null,
      "outputs": [
        {
          "output_type": "stream",
          "name": "stdout",
          "text": [
            "0 - 100 percentile with at a interval of 10\n",
            "**************************************************\n",
            "0 percentile - 0 number of words\n",
            "10 percentile - 0 number of words\n",
            "20 percentile - 0 number of words\n",
            "30 percentile - 0 number of words\n",
            "40 percentile - 0 number of words\n",
            "50 percentile - 0 number of words\n",
            "60 percentile - 0 number of words\n",
            "70 percentile - 0 number of words\n",
            "80 percentile - 36 number of words\n",
            "90 percentile - 114 number of words\n",
            "100 percentile - 20961 number of words\n",
            "**************************************************\n",
            "90 - 100 percentile with at a interval of 1\n",
            "**************************************************\n",
            "90 percentile - 114 number of words\n",
            "91 percentile - 127 number of words\n",
            "92 percentile - 144 number of words\n",
            "93 percentile - 163 number of words\n",
            "94 percentile - 187 number of words\n",
            "95 percentile - 216 number of words\n",
            "96 percentile - 258 number of words\n",
            "97 percentile - 319 number of words\n",
            "98 percentile - 415 number of words\n",
            "99 percentile - 623 number of words\n",
            "100 percentile - 20961 number of words\n",
            "**************************************************\n",
            "99 - 100 percentile with at a interval of 0.1\n",
            "**************************************************\n",
            "99.0 percentile - 623 number of words\n",
            "99.1 percentile - 643 number of words\n",
            "99.2 percentile - 694 number of words\n",
            "99.3 percentile - 744 number of words\n",
            "99.4 percentile - 798 number of words\n",
            "99.5 percentile - 857 number of words\n",
            "99.6 percentile - 945 number of words\n",
            "99.7 percentile - 1110 number of words\n",
            "99.8 percentile - 1364 number of words\n",
            "99.9 percentile - 1967 number of words\n",
            "100.0 percentile - 20961 number of words\n"
          ]
        }
      ]
    },
    {
      "cell_type": "markdown",
      "source": [
        "### Observations:\n",
        "\n",
        "1. We observe that around 75 percentile of the data does not have a previous mail entry.\n",
        "\n",
        "2. From 80 - 99 .9 percentile have appropriate value for previous mail column, which exploded suudenly at 99.9 percentile."
      ],
      "metadata": {
        "id": "Gl2rgVIwZf6J"
      }
    },
    {
      "cell_type": "markdown",
      "source": [
        "Histogram"
      ],
      "metadata": {
        "id": "BZxZu_BQTQeA"
      }
    },
    {
      "cell_type": "code",
      "source": [
        "get_histogram(word_count_prev_mail_train,\"Previous Mail\",70,99.9)"
      ],
      "metadata": {
        "colab": {
          "base_uri": "https://localhost:8080/",
          "height": 295
        },
        "id": "InravlNCTQeA",
        "outputId": "2991c027-d05a-49f0-a7c9-b50d47eb7daf"
      },
      "execution_count": null,
      "outputs": [
        {
          "output_type": "display_data",
          "data": {
            "image/png": "[encoded data removed]",
            "text/plain": [
              "<Figure size 432x288 with 1 Axes>"
            ]
          },
          "metadata": {
            "needs_background": "light"
          }
        }
      ]
    },
    {
      "cell_type": "markdown",
      "source": [
        "### X_test Tokenzation:"
      ],
      "metadata": {
        "id": "OlC1V9XQRrKU"
      }
    },
    {
      "cell_type": "code",
      "source": [
        "X_test.shape"
      ],
      "metadata": {
        "colab": {
          "base_uri": "https://localhost:8080/"
        },
        "id": "-b_u7YGfZ1dM",
        "outputId": "65078c37-98a1-4387-b494-8cc25ca8b3b6"
      },
      "execution_count": null,
      "outputs": [
        {
          "output_type": "execute_result",
          "data": {
            "text/plain": [
              "(24099, 4)"
            ]
          },
          "metadata": {},
          "execution_count": 46
        }
      ]
    },
    {
      "cell_type": "code",
      "source": [
        "#For X_test\n",
        "body_tokenizer_test,subject_tokenizer_test,previous_email_tokenizer_test = create_tokenizer(X_test)\n",
        "body_tokenizer_test,subject_tokenizer_test,previous_email_tokenizer_test = fit_tokenizer(X_test,body_tokenizer_test,subject_tokenizer_test,previous_email_tokenizer_test )\n",
        "tensor_body_test,tensor_subject_test,tensor_previous_email_test = text_to_seq(X_test,body_tokenizer_test,subject_tokenizer_test,previous_email_tokenizer_test )\n",
        "word_count_body_test = get_word_count(tensor_body_test)\n",
        "word_count_sub_test = get_word_count(tensor_subject_test)\n",
        "word_count_prev_mail_test = get_word_count(tensor_previous_email_test)"
      ],
      "metadata": {
        "colab": {
          "base_uri": "https://localhost:8080/"
        },
        "id": "TDurndPGRwSU",
        "outputId": "0292a4d5-20cb-4bbb-8419-d5f3c45b75a6"
      },
      "execution_count": null,
      "outputs": [
        {
          "output_type": "stream",
          "name": "stderr",
          "text": [
            "100%|██████████| 24099/24099 [00:00<00:00, 2261821.30it/s]\n",
            "100%|██████████| 24099/24099 [00:00<00:00, 312048.79it/s]\n",
            "100%|██████████| 24099/24099 [00:00<00:00, 1835622.12it/s]\n"
          ]
        }
      ]
    },
    {
      "cell_type": "markdown",
      "source": [
        "### X_test Analysis\n",
        "#### Body Column"
      ],
      "metadata": {
        "id": "lq9-x7fwTr0Q"
      }
    },
    {
      "cell_type": "markdown",
      "source": [
        "Histogram"
      ],
      "metadata": {
        "id": "plbsosUqTr0U"
      }
    },
    {
      "cell_type": "code",
      "source": [
        "#plot Body histogram\n",
        "get_histogram(word_count_body_test,\"Body\",0,100)"
      ],
      "metadata": {
        "colab": {
          "base_uri": "https://localhost:8080/",
          "height": 295
        },
        "id": "GWSmvalLTr0U",
        "outputId": "ca8051c3-061a-4334-cd86-021fb1156b98"
      },
      "execution_count": null,
      "outputs": [
        {
          "output_type": "display_data",
          "data": {
            "image/png": "[encoded data removed]",
            "text/plain": [
              "<Figure size 432x288 with 1 Axes>"
            ]
          },
          "metadata": {
            "needs_background": "light"
          }
        }
      ]
    },
    {
      "cell_type": "markdown",
      "source": [
        "### Observations:\n",
        "\n",
        "1. The graph is not very clear, it could be due to outlier, we will need to take a closer look into the data."
      ],
      "metadata": {
        "id": "r3NsOK0vaPvm"
      }
    },
    {
      "cell_type": "markdown",
      "source": [
        "Percentiles"
      ],
      "metadata": {
        "id": "rfY1hLmDTr0V"
      }
    },
    {
      "cell_type": "code",
      "source": [
        "get_and_print_percentile(word_count_body_test)"
      ],
      "metadata": {
        "colab": {
          "base_uri": "https://localhost:8080/"
        },
        "id": "e-WdchgOTr0V",
        "outputId": "33a4f83b-3b90-40d7-b9c1-87aad42baf73"
      },
      "execution_count": null,
      "outputs": [
        {
          "output_type": "stream",
          "name": "stdout",
          "text": [
            "0 - 100 percentile with at a interval of 10\n",
            "**************************************************\n",
            "0 percentile - 0 number of words\n",
            "10 percentile - 9 number of words\n",
            "20 percentile - 18 number of words\n",
            "30 percentile - 28 number of words\n",
            "40 percentile - 42 number of words\n",
            "50 percentile - 59 number of words\n",
            "60 percentile - 84 number of words\n",
            "70 percentile - 120 number of words\n",
            "80 percentile - 180 number of words\n",
            "90 percentile - 328 number of words\n",
            "100 percentile - 53608 number of words\n",
            "**************************************************\n",
            "90 - 100 percentile with at a interval of 1\n",
            "**************************************************\n",
            "90 percentile - 328 number of words\n",
            "91 percentile - 356 number of words\n",
            "92 percentile - 395 number of words\n",
            "93 percentile - 435 number of words\n",
            "94 percentile - 483 number of words\n",
            "95 percentile - 542 number of words\n",
            "96 percentile - 636 number of words\n",
            "97 percentile - 800 number of words\n",
            "98 percentile - 1027 number of words\n",
            "99 percentile - 1678 number of words\n",
            "100 percentile - 53608 number of words\n",
            "**************************************************\n",
            "99 - 100 percentile with at a interval of 0.1\n",
            "**************************************************\n",
            "99.0 percentile - 1683 number of words\n",
            "99.1 percentile - 1778 number of words\n",
            "99.2 percentile - 1918 number of words\n",
            "99.3 percentile - 2086 number of words\n",
            "99.4 percentile - 2230 number of words\n",
            "99.5 percentile - 2427 number of words\n",
            "99.6 percentile - 2810 number of words\n",
            "99.7 percentile - 3406 number of words\n",
            "99.8 percentile - 4718 number of words\n",
            "99.9 percentile - 8581 number of words\n",
            "100.0 percentile - 53608 number of words\n"
          ]
        }
      ]
    },
    {
      "cell_type": "markdown",
      "source": [
        "### Observations:\n",
        "\n",
        "1. We see that the 99th percentile has a value of 1683 whereas the 100th percentile has a value which is very high(53608), so we can take the max. sentence length of 1683."
      ],
      "metadata": {
        "id": "rqOJaBFractn"
      }
    },
    {
      "cell_type": "markdown",
      "source": [
        "Histogram"
      ],
      "metadata": {
        "id": "KFVx3vbtTr0V"
      }
    },
    {
      "cell_type": "code",
      "source": [
        "get_histogram(word_count_body_test,\"Body\",0,99)"
      ],
      "metadata": {
        "colab": {
          "base_uri": "https://localhost:8080/",
          "height": 295
        },
        "id": "V5_hAkVDTr0V",
        "outputId": "8040ab7e-4194-461c-c7a2-60497ddfe549"
      },
      "execution_count": null,
      "outputs": [
        {
          "output_type": "display_data",
          "data": {
            "image/png": "[encoded data removed]",
            "text/plain": [
              "<Figure size 432x288 with 1 Axes>"
            ]
          },
          "metadata": {
            "needs_background": "light"
          }
        }
      ]
    },
    {
      "cell_type": "markdown",
      "source": [
        "### Observations:\n",
        "\n",
        "1. We see that after tokenization around 2000 records have a 0 word count in a sequence. So we may drop these columns."
      ],
      "metadata": {
        "id": "UVGH3RMYactx"
      }
    },
    {
      "cell_type": "markdown",
      "source": [
        "#### Subject Column"
      ],
      "metadata": {
        "id": "lgPgnmiqTr0V"
      }
    },
    {
      "cell_type": "markdown",
      "source": [
        "Percentiles"
      ],
      "metadata": {
        "id": "DwLlJXFPTr0W"
      }
    },
    {
      "cell_type": "code",
      "source": [
        "get_and_print_percentile(word_count_sub_test)"
      ],
      "metadata": {
        "colab": {
          "base_uri": "https://localhost:8080/"
        },
        "id": "UrIKO2kNTr0W",
        "outputId": "30d542ef-55e9-4285-d513-e16b65da6b22"
      },
      "execution_count": null,
      "outputs": [
        {
          "output_type": "stream",
          "name": "stdout",
          "text": [
            "0 - 100 percentile with at a interval of 10\n",
            "**************************************************\n",
            "0 percentile - 0 number of words\n",
            "10 percentile - 1 number of words\n",
            "20 percentile - 2 number of words\n",
            "30 percentile - 2 number of words\n",
            "40 percentile - 3 number of words\n",
            "50 percentile - 3 number of words\n",
            "60 percentile - 4 number of words\n",
            "70 percentile - 5 number of words\n",
            "80 percentile - 6 number of words\n",
            "90 percentile - 8 number of words\n",
            "100 percentile - 49 number of words\n",
            "**************************************************\n",
            "90 - 100 percentile with at a interval of 1\n",
            "**************************************************\n",
            "90 percentile - 8 number of words\n",
            "91 percentile - 8 number of words\n",
            "92 percentile - 9 number of words\n",
            "93 percentile - 9 number of words\n",
            "94 percentile - 9 number of words\n",
            "95 percentile - 9 number of words\n",
            "96 percentile - 10 number of words\n",
            "97 percentile - 10 number of words\n",
            "98 percentile - 11 number of words\n",
            "99 percentile - 12 number of words\n",
            "100 percentile - 49 number of words\n",
            "**************************************************\n",
            "99 - 100 percentile with at a interval of 0.1\n",
            "**************************************************\n",
            "99.0 percentile - 12 number of words\n",
            "99.1 percentile - 12 number of words\n",
            "99.2 percentile - 12 number of words\n",
            "99.3 percentile - 12 number of words\n",
            "99.4 percentile - 13 number of words\n",
            "99.5 percentile - 13 number of words\n",
            "99.6 percentile - 13 number of words\n",
            "99.7 percentile - 14 number of words\n",
            "99.8 percentile - 14 number of words\n",
            "99.9 percentile - 16 number of words\n",
            "100.0 percentile - 49 number of words\n"
          ]
        }
      ]
    },
    {
      "cell_type": "markdown",
      "source": [
        "### Observations:\n",
        "\n",
        "1. We observe that 99.9 percentile of subjects have a length less than or equal to 16 words and only 0.1 percentile of them cross the 15 words per subject mark."
      ],
      "metadata": {
        "id": "NaJZJkvWbDbJ"
      }
    },
    {
      "cell_type": "markdown",
      "source": [
        "#### Previous Email Column"
      ],
      "metadata": {
        "id": "thH5ov1RTr0W"
      }
    },
    {
      "cell_type": "markdown",
      "source": [
        "Percentiles"
      ],
      "metadata": {
        "id": "demPcPK2Tr0W"
      }
    },
    {
      "cell_type": "code",
      "source": [
        "get_and_print_percentile(word_count_prev_mail_test)"
      ],
      "metadata": {
        "colab": {
          "base_uri": "https://localhost:8080/"
        },
        "id": "HPhzDa7jTr0X",
        "outputId": "a63ea5db-e046-4253-9df9-4a29d0644b71"
      },
      "execution_count": null,
      "outputs": [
        {
          "output_type": "stream",
          "name": "stdout",
          "text": [
            "0 - 100 percentile with at a interval of 10\n",
            "**************************************************\n",
            "0 percentile - 0 number of words\n",
            "10 percentile - 0 number of words\n",
            "20 percentile - 0 number of words\n",
            "30 percentile - 0 number of words\n",
            "40 percentile - 0 number of words\n",
            "50 percentile - 0 number of words\n",
            "60 percentile - 0 number of words\n",
            "70 percentile - 0 number of words\n",
            "80 percentile - 37 number of words\n",
            "90 percentile - 117 number of words\n",
            "100 percentile - 15406 number of words\n",
            "**************************************************\n",
            "90 - 100 percentile with at a interval of 1\n",
            "**************************************************\n",
            "90 percentile - 117 number of words\n",
            "91 percentile - 131 number of words\n",
            "92 percentile - 149 number of words\n",
            "93 percentile - 169 number of words\n",
            "94 percentile - 192 number of words\n",
            "95 percentile - 219 number of words\n",
            "96 percentile - 257 number of words\n",
            "97 percentile - 317 number of words\n",
            "98 percentile - 415 number of words\n",
            "99 percentile - 614 number of words\n",
            "100 percentile - 15406 number of words\n",
            "**************************************************\n",
            "99 - 100 percentile with at a interval of 0.1\n",
            "**************************************************\n",
            "99.0 percentile - 614 number of words\n",
            "99.1 percentile - 642 number of words\n",
            "99.2 percentile - 692 number of words\n",
            "99.3 percentile - 743 number of words\n",
            "99.4 percentile - 816 number of words\n",
            "99.5 percentile - 891 number of words\n",
            "99.6 percentile - 1007 number of words\n",
            "99.7 percentile - 1221 number of words\n",
            "99.8 percentile - 1434 number of words\n",
            "99.9 percentile - 2075 number of words\n",
            "100.0 percentile - 15406 number of words\n"
          ]
        }
      ]
    },
    {
      "cell_type": "markdown",
      "source": [
        "Histogram"
      ],
      "metadata": {
        "id": "IIfqr5WrTr0X"
      }
    },
    {
      "cell_type": "code",
      "source": [
        "get_histogram(word_count_prev_mail_test,\"Previous Email\",70,99.9)"
      ],
      "metadata": {
        "colab": {
          "base_uri": "https://localhost:8080/",
          "height": 295
        },
        "id": "PDaCC5bCTr0X",
        "outputId": "74378336-1c64-4238-a3ad-80f8a77db71a"
      },
      "execution_count": null,
      "outputs": [
        {
          "output_type": "display_data",
          "data": {
            "image/png": "[encoded data removed]",
            "text/plain": [
              "<Figure size 432x288 with 1 Axes>"
            ]
          },
          "metadata": {
            "needs_background": "light"
          }
        }
      ]
    },
    {
      "cell_type": "markdown",
      "source": [
        "### Observations:\n",
        "\n",
        "1. We observe that around 75 percentile of the data does not have a previous mail entry.\n",
        "\n",
        "2. From 80 - 99 .9 percentile have appropriate value for previous mail column, which exploded suudenly at 99.9 percentile."
      ],
      "metadata": {
        "id": "GA-Dai3ebRVv"
      }
    },
    {
      "cell_type": "markdown",
      "source": [
        "### X_validation Tokenzation:"
      ],
      "metadata": {
        "id": "j5ByxyY-R6iS"
      }
    },
    {
      "cell_type": "code",
      "source": [
        "#For X_validation\n",
        "body_tokenizer_validation,subject_tokenizer_validation,previous_email_tokenizer_validation = create_tokenizer(X_validation)\n",
        "body_tokenizer_validation,subject_tokenizer_validation,previous_email_tokenizer_validation = fit_tokenizer(X_validation,body_tokenizer_validation,subject_tokenizer_validation,previous_email_tokenizer_validation )\n",
        "tensor_body_validation,tensor_subject_validation,tensor_previous_email_validation = text_to_seq(X_validation,body_tokenizer_validation,subject_tokenizer_validation,previous_email_tokenizer_validation )\n",
        "word_count_body_validation = get_word_count(tensor_body_validation)\n",
        "word_count_sub_validation = get_word_count(tensor_subject_validation)\n",
        "word_count_prev_mail_validation = get_word_count(tensor_previous_email_validation)"
      ],
      "metadata": {
        "colab": {
          "base_uri": "https://localhost:8080/"
        },
        "id": "eurWN6pISAov",
        "outputId": "3398b6cf-3ab1-4bee-ff2a-1542f889980a"
      },
      "execution_count": null,
      "outputs": [
        {
          "output_type": "stream",
          "name": "stderr",
          "text": [
            "100%|██████████| 24099/24099 [00:00<00:00, 2122294.75it/s]\n",
            "100%|██████████| 24099/24099 [00:00<00:00, 1663679.84it/s]\n",
            "100%|██████████| 24099/24099 [00:00<00:00, 1725007.37it/s]\n"
          ]
        }
      ]
    },
    {
      "cell_type": "markdown",
      "source": [
        "### X_validation Analysis\n",
        "#### Body Column"
      ],
      "metadata": {
        "id": "6YSQJsElTtxP"
      }
    },
    {
      "cell_type": "markdown",
      "source": [
        "Histogram"
      ],
      "metadata": {
        "id": "ycHpVzhLTtxP"
      }
    },
    {
      "cell_type": "code",
      "source": [
        "#plot Body histogram\n",
        "get_histogram(word_count_body_validation,\"Body\",0,100)"
      ],
      "metadata": {
        "colab": {
          "base_uri": "https://localhost:8080/",
          "height": 295
        },
        "id": "s8JvZ6NnTtxP",
        "outputId": "7b0264bb-8513-44d6-c3be-30d145fb61ed"
      },
      "execution_count": null,
      "outputs": [
        {
          "output_type": "display_data",
          "data": {
            "image/png": "[encoded data removed]",
            "text/plain": [
              "<Figure size 432x288 with 1 Axes>"
            ]
          },
          "metadata": {
            "needs_background": "light"
          }
        }
      ]
    },
    {
      "cell_type": "markdown",
      "source": [
        "### Observations:\n",
        "\n",
        "1. The graph is not very clear, it could be due to outlier, we will need to take a closer look into the data."
      ],
      "metadata": {
        "id": "kkBF5vepbgn9"
      }
    },
    {
      "cell_type": "markdown",
      "source": [
        "Percentiles"
      ],
      "metadata": {
        "id": "HJx6Yd5NTtxQ"
      }
    },
    {
      "cell_type": "code",
      "source": [
        "get_and_print_percentile(word_count_body_validation)"
      ],
      "metadata": {
        "colab": {
          "base_uri": "https://localhost:8080/"
        },
        "id": "7BXSPeszTtxQ",
        "outputId": "1d2474aa-ba6a-4196-d77e-be9556f76c7d"
      },
      "execution_count": null,
      "outputs": [
        {
          "output_type": "stream",
          "name": "stdout",
          "text": [
            "0 - 100 percentile with at a interval of 10\n",
            "**************************************************\n",
            "0 percentile - 0 number of words\n",
            "10 percentile - 9 number of words\n",
            "20 percentile - 17 number of words\n",
            "30 percentile - 28 number of words\n",
            "40 percentile - 42 number of words\n",
            "50 percentile - 59 number of words\n",
            "60 percentile - 84 number of words\n",
            "70 percentile - 121 number of words\n",
            "80 percentile - 181 number of words\n",
            "90 percentile - 320 number of words\n",
            "100 percentile - 47453 number of words\n",
            "**************************************************\n",
            "90 - 100 percentile with at a interval of 1\n",
            "**************************************************\n",
            "90 percentile - 320 number of words\n",
            "91 percentile - 343 number of words\n",
            "92 percentile - 379 number of words\n",
            "93 percentile - 421 number of words\n",
            "94 percentile - 473 number of words\n",
            "95 percentile - 534 number of words\n",
            "96 percentile - 625 number of words\n",
            "97 percentile - 752 number of words\n",
            "98 percentile - 980 number of words\n",
            "99 percentile - 1561 number of words\n",
            "100 percentile - 47453 number of words\n",
            "**************************************************\n",
            "99 - 100 percentile with at a interval of 0.1\n",
            "**************************************************\n",
            "99.0 percentile - 1573 number of words\n",
            "99.1 percentile - 1676 number of words\n",
            "99.2 percentile - 1787 number of words\n",
            "99.3 percentile - 1948 number of words\n",
            "99.4 percentile - 2111 number of words\n",
            "99.5 percentile - 2217 number of words\n",
            "99.6 percentile - 2459 number of words\n",
            "99.7 percentile - 2886 number of words\n",
            "99.8 percentile - 3814 number of words\n",
            "99.9 percentile - 5406 number of words\n",
            "100.0 percentile - 47453 number of words\n"
          ]
        }
      ]
    },
    {
      "cell_type": "markdown",
      "source": [
        "### Observations:\n",
        "\n",
        "1. We see that the 99th percentile has a value of 1573 whereas the 100th percentile has a value which is very high(47453), so we can take the max. sentence length of 1573."
      ],
      "metadata": {
        "id": "pmyS_Qufbgn-"
      }
    },
    {
      "cell_type": "markdown",
      "source": [
        "Histogram"
      ],
      "metadata": {
        "id": "uMHXSlWXTtxQ"
      }
    },
    {
      "cell_type": "code",
      "source": [
        "get_histogram(word_count_body_validation,\"Body\",0,99)"
      ],
      "metadata": {
        "colab": {
          "base_uri": "https://localhost:8080/",
          "height": 295
        },
        "id": "_aNEL5B_TtxQ",
        "outputId": "e42a6ff3-1fe4-472e-a921-1d7dd873a494"
      },
      "execution_count": null,
      "outputs": [
        {
          "output_type": "display_data",
          "data": {
            "image/png": "[encoded data removed]",
            "text/plain": [
              "<Figure size 432x288 with 1 Axes>"
            ]
          },
          "metadata": {
            "needs_background": "light"
          }
        }
      ]
    },
    {
      "cell_type": "markdown",
      "source": [
        "### Observations:\n",
        "\n",
        "1. We see that after tokenization around 2000 records have a 0 word count in a sequence. So we may drop these columns."
      ],
      "metadata": {
        "id": "lYuTJK70bgn-"
      }
    },
    {
      "cell_type": "markdown",
      "source": [
        "#### Subject Column"
      ],
      "metadata": {
        "id": "fl22qPcLTtxQ"
      }
    },
    {
      "cell_type": "markdown",
      "source": [
        "Percentiles"
      ],
      "metadata": {
        "id": "NgV-78-nTtxR"
      }
    },
    {
      "cell_type": "code",
      "source": [
        "get_and_print_percentile(word_count_sub_validation)"
      ],
      "metadata": {
        "colab": {
          "base_uri": "https://localhost:8080/"
        },
        "id": "0EbfB4WWTtxR",
        "outputId": "9aa9ffe0-097a-4328-cd97-9eb0bf936c4c"
      },
      "execution_count": null,
      "outputs": [
        {
          "output_type": "stream",
          "name": "stdout",
          "text": [
            "0 - 100 percentile with at a interval of 10\n",
            "**************************************************\n",
            "0 percentile - 0 number of words\n",
            "10 percentile - 1 number of words\n",
            "20 percentile - 2 number of words\n",
            "30 percentile - 2 number of words\n",
            "40 percentile - 3 number of words\n",
            "50 percentile - 4 number of words\n",
            "60 percentile - 4 number of words\n",
            "70 percentile - 5 number of words\n",
            "80 percentile - 6 number of words\n",
            "90 percentile - 8 number of words\n",
            "100 percentile - 26 number of words\n",
            "**************************************************\n",
            "90 - 100 percentile with at a interval of 1\n",
            "**************************************************\n",
            "90 percentile - 8 number of words\n",
            "91 percentile - 8 number of words\n",
            "92 percentile - 8 number of words\n",
            "93 percentile - 9 number of words\n",
            "94 percentile - 9 number of words\n",
            "95 percentile - 9 number of words\n",
            "96 percentile - 10 number of words\n",
            "97 percentile - 10 number of words\n",
            "98 percentile - 11 number of words\n",
            "99 percentile - 12 number of words\n",
            "100 percentile - 26 number of words\n",
            "**************************************************\n",
            "99 - 100 percentile with at a interval of 0.1\n",
            "**************************************************\n",
            "99.0 percentile - 12 number of words\n",
            "99.1 percentile - 12 number of words\n",
            "99.2 percentile - 12 number of words\n",
            "99.3 percentile - 12 number of words\n",
            "99.4 percentile - 13 number of words\n",
            "99.5 percentile - 13 number of words\n",
            "99.6 percentile - 13 number of words\n",
            "99.7 percentile - 14 number of words\n",
            "99.8 percentile - 14 number of words\n",
            "99.9 percentile - 16 number of words\n",
            "100.0 percentile - 26 number of words\n"
          ]
        }
      ]
    },
    {
      "cell_type": "markdown",
      "source": [
        "Histogram"
      ],
      "metadata": {
        "id": "qahzTzgETtxR"
      }
    },
    {
      "cell_type": "code",
      "source": [
        "get_histogram(word_count_sub_validation,\"Subject\",0,99.9)"
      ],
      "metadata": {
        "colab": {
          "base_uri": "https://localhost:8080/",
          "height": 295
        },
        "id": "1-adfC2qTtxR",
        "outputId": "eb90541e-105f-4283-e7d3-a47cf76dd56d"
      },
      "execution_count": null,
      "outputs": [
        {
          "output_type": "display_data",
          "data": {
            "image/png": "[encoded data removed]",
            "text/plain": [
              "<Figure size 432x288 with 1 Axes>"
            ]
          },
          "metadata": {
            "needs_background": "light"
          }
        }
      ]
    },
    {
      "cell_type": "markdown",
      "source": [
        "### Observations:\n",
        "\n",
        "1. We observe that 99.9 percentile of subjects have a length less than or equal to 16 words and only 0.1 percentile of them cross the 16 words per subject mark."
      ],
      "metadata": {
        "id": "YyoQ-xnLbgn-"
      }
    },
    {
      "cell_type": "markdown",
      "source": [
        "#### Previous Email Column"
      ],
      "metadata": {
        "id": "oisrlaWyTtxR"
      }
    },
    {
      "cell_type": "markdown",
      "source": [
        "Percentiles"
      ],
      "metadata": {
        "id": "0aM4qjAqTtxR"
      }
    },
    {
      "cell_type": "code",
      "source": [
        "get_and_print_percentile(word_count_prev_mail_validation)"
      ],
      "metadata": {
        "colab": {
          "base_uri": "https://localhost:8080/"
        },
        "id": "JKxqvoZ7TtxS",
        "outputId": "26c7b26d-395c-451e-ea76-f33f3f2fa115"
      },
      "execution_count": null,
      "outputs": [
        {
          "output_type": "stream",
          "name": "stdout",
          "text": [
            "0 - 100 percentile with at a interval of 10\n",
            "**************************************************\n",
            "0 percentile - 0 number of words\n",
            "10 percentile - 0 number of words\n",
            "20 percentile - 0 number of words\n",
            "30 percentile - 0 number of words\n",
            "40 percentile - 0 number of words\n",
            "50 percentile - 0 number of words\n",
            "60 percentile - 0 number of words\n",
            "70 percentile - 0 number of words\n",
            "80 percentile - 38 number of words\n",
            "90 percentile - 115 number of words\n",
            "100 percentile - 12812 number of words\n",
            "**************************************************\n",
            "90 - 100 percentile with at a interval of 1\n",
            "**************************************************\n",
            "90 percentile - 115 number of words\n",
            "91 percentile - 129 number of words\n",
            "92 percentile - 145 number of words\n",
            "93 percentile - 165 number of words\n",
            "94 percentile - 189 number of words\n",
            "95 percentile - 219 number of words\n",
            "96 percentile - 263 number of words\n",
            "97 percentile - 333 number of words\n",
            "98 percentile - 446 number of words\n",
            "99 percentile - 650 number of words\n",
            "100 percentile - 12812 number of words\n",
            "**************************************************\n",
            "99 - 100 percentile with at a interval of 0.1\n",
            "**************************************************\n",
            "99.0 percentile - 652 number of words\n",
            "99.1 percentile - 689 number of words\n",
            "99.2 percentile - 722 number of words\n",
            "99.3 percentile - 768 number of words\n",
            "99.4 percentile - 830 number of words\n",
            "99.5 percentile - 897 number of words\n",
            "99.6 percentile - 1004 number of words\n",
            "99.7 percentile - 1205 number of words\n",
            "99.8 percentile - 1461 number of words\n",
            "99.9 percentile - 1962 number of words\n",
            "100.0 percentile - 12812 number of words\n"
          ]
        }
      ]
    },
    {
      "cell_type": "markdown",
      "source": [
        "Histogram"
      ],
      "metadata": {
        "id": "9cKZoX-iTtxS"
      }
    },
    {
      "cell_type": "code",
      "source": [
        "get_histogram(word_count_prev_mail_validation,\"Previous Mail\",70,99.9)"
      ],
      "metadata": {
        "colab": {
          "base_uri": "https://localhost:8080/",
          "height": 295
        },
        "id": "ccqBIUX0TtxS",
        "outputId": "cb84f0b8-0403-4eb7-c82e-3aadef9d162f"
      },
      "execution_count": null,
      "outputs": [
        {
          "output_type": "display_data",
          "data": {
            "image/png": "[encoded data removed]",
            "text/plain": [
              "<Figure size 432x288 with 1 Axes>"
            ]
          },
          "metadata": {
            "needs_background": "light"
          }
        }
      ]
    },
    {
      "cell_type": "markdown",
      "source": [
        "### Observations:\n",
        "\n",
        "1. We observe that around 75 percentile of the data does not have a previous mail entry.\n",
        "\n",
        "2. From 80 - 99 .9 percentile have appropriate value for previous mail column, which exploded suudenly at 99.9 percentile."
      ],
      "metadata": {
        "id": "6uLeQtKEbgn_"
      }
    },
    {
      "cell_type": "markdown",
      "source": [
        ""
      ],
      "metadata": {
        "id": "UDSLduUOSSpZ"
      }
    },
    {
      "cell_type": "markdown",
      "source": [
        "#### Analysis of words in datasets"
      ],
      "metadata": {
        "id": "tXxCAyhx1FVi"
      }
    },
    {
      "cell_type": "code",
      "source": [
        "body_words_train = set(body_tokenizer_train.index_word.values())\n",
        "body_words_test = set(body_tokenizer_test.index_word.values())\n",
        "body_words_validation = set(body_tokenizer_validation.index_word.values())"
      ],
      "metadata": {
        "id": "rPe0Nf3X1JqX"
      },
      "execution_count": null,
      "outputs": []
    },
    {
      "cell_type": "code",
      "source": [
        "print(len(body_words_train))\n",
        "print(len(body_words_test))\n",
        "print(len(body_words_validation))"
      ],
      "metadata": {
        "colab": {
          "base_uri": "https://localhost:8080/"
        },
        "id": "oN3l68tz1XkV",
        "outputId": "d658eaf6-736e-40c9-fea5-91269b48ca07"
      },
      "execution_count": null,
      "outputs": [
        {
          "output_type": "stream",
          "name": "stdout",
          "text": [
            "138962\n",
            "84265\n",
            "82036\n"
          ]
        }
      ]
    },
    {
      "cell_type": "code",
      "source": [
        "#words in test but not in train\n",
        "words_in_test_not_train = body_words_test - body_words_train\n",
        "words_in_val_not_train = body_words_validation- body_words_train"
      ],
      "metadata": {
        "id": "JmicFrCp2VdO"
      },
      "execution_count": null,
      "outputs": []
    },
    {
      "cell_type": "code",
      "source": [
        "print(\"Percentage of words in TEST but not TRAIN: \",(len(words_in_test_not_train)/len(body_words_test)*100))"
      ],
      "metadata": {
        "colab": {
          "base_uri": "https://localhost:8080/"
        },
        "id": "PmrycqA62cVb",
        "outputId": "379f7e10-9403-42d5-f339-fefae5079d27"
      },
      "execution_count": null,
      "outputs": [
        {
          "output_type": "stream",
          "name": "stdout",
          "text": [
            "Percentage of words in TEST but not TRAIN:  22.94784311398564\n"
          ]
        }
      ]
    },
    {
      "cell_type": "code",
      "source": [
        "print(\"Percentage of words in Validation but not TRAIN: \",(len(words_in_val_not_train)/len(body_words_validation)*100))"
      ],
      "metadata": {
        "colab": {
          "base_uri": "https://localhost:8080/"
        },
        "id": "yPDVf53r2vm_",
        "outputId": "2be23fb6-f7f4-4950-fac9-41c16fbe3d83"
      },
      "execution_count": null,
      "outputs": [
        {
          "output_type": "stream",
          "name": "stdout",
          "text": [
            "Percentage of words in Validation but not TRAIN:  23.149592861670488\n"
          ]
        }
      ]
    }
  ]
}